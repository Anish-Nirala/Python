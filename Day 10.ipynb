{
 "cells": [
  {
   "cell_type": "code",
   "execution_count": 1,
   "metadata": {},
   "outputs": [
    {
     "name": "stdout",
     "output_type": "stream",
     "text": [
      "['Python12', 'Str123ing']\n"
     ]
    }
   ],
   "source": [
    "# 1. Check for string containing only a-z, A-Z, 0-9.\n",
    "import re\n",
    "stringList = [\"Python12\",\"Str123ing\",\"Abc_#@!\"]\n",
    "print([word for word in stringList if re.match(\"^[A-Za-z0-9]+$\", word)])"
   ]
  },
  {
   "cell_type": "code",
   "execution_count": 2,
   "metadata": {},
   "outputs": [
    {
     "name": "stdout",
     "output_type": "stream",
     "text": [
      "['ab', 'abs', 'xab', 'cabd']\n"
     ]
    }
   ],
   "source": [
    "# 2. Check for string containing 'ab'.\n",
    "import re\n",
    "stringList = [\"ab\", \"bds\", \"klj\", \"abs\", \"xab\", \"cabd\"]\n",
    "print(re.findall('\\w?ab\\w?', \" \".join(stringList)))"
   ]
  },
  {
   "cell_type": "code",
   "execution_count": 3,
   "metadata": {},
   "outputs": [
    {
     "name": "stdout",
     "output_type": "stream",
     "text": [
      "['abc12', 'python258']\n"
     ]
    }
   ],
   "source": [
    "# 3. Check for a string containing number at the end.\n",
    "import re\n",
    "stringList = [\"abc12\" ,\"def\", \"gh12kj\", \"python258\"]\n",
    "print([word for word in stringList if re.match(\"\\w+\\d$\", word)])"
   ]
  },
  {
   "cell_type": "code",
   "execution_count": 4,
   "metadata": {},
   "outputs": [
    {
     "name": "stdout",
     "output_type": "stream",
     "text": [
      "['1', '22', '123', '10']\n"
     ]
    }
   ],
   "source": [
    "# 4. Check for number of length between 1 and 3 in given string.\n",
    "import re\n",
    "string = \"1 String 22 Python 123 Regex Day 10\"\n",
    "print(re.findall(\"\\d{1,3}\", string))"
   ]
  },
  {
   "cell_type": "code",
   "execution_count": 5,
   "metadata": {},
   "outputs": [
    {
     "name": "stdout",
     "output_type": "stream",
     "text": [
      "['PYTHON', 'REGEX']\n"
     ]
    }
   ],
   "source": [
    "# 5. Check for string containing only uppercase letters.\n",
    "import re\n",
    "stringList = \"PYTHON\", \"List\", \"string\", \"REGEX\", \"daY\"\n",
    "print([word for word in stringList if re.match('^[A-Z]+$', word)])"
   ]
  }
 ],
 "metadata": {
  "kernelspec": {
   "display_name": "Python 3",
   "language": "python",
   "name": "python3"
  },
  "language_info": {
   "codemirror_mode": {
    "name": "ipython",
    "version": 3
   },
   "file_extension": ".py",
   "mimetype": "text/x-python",
   "name": "python",
   "nbconvert_exporter": "python",
   "pygments_lexer": "ipython3",
   "version": "3.8.3"
  }
 },
 "nbformat": 4,
 "nbformat_minor": 2
}
