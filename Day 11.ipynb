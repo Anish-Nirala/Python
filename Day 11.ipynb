{
 "cells": [
  {
   "cell_type": "code",
   "execution_count": 1,
   "metadata": {},
   "outputs": [
    {
     "name": "stdout",
     "output_type": "stream",
     "text": [
      "[('Bihar', 'Patna'), ('Assam', 'Guwahati'), ('Jharkhand', 'Ranchi')]\n"
     ]
    }
   ],
   "source": [
    "# 1. Create a merged list of tuples from two lists given\n",
    "stateList = ['Bihar', 'Assam', 'Jharkhand']\n",
    "capitalList = ['Patna', 'Guwahati', 'Ranchi']\n",
    "print(list(zip(stateList, capitalList)))"
   ]
  },
  {
   "cell_type": "code",
   "execution_count": 2,
   "metadata": {},
   "outputs": [
    {
     "name": "stdout",
     "output_type": "stream",
     "text": [
      "[('A', 1), ('B', 2), ('C', 3), ('D', 4), ('E', 5), ('F', 6), ('G', 7)]\n"
     ]
    }
   ],
   "source": [
    "# 2.\n",
    "rangeList = list(range(1, 8))\n",
    "givenList = ['A','B','C','D','E','F','G']\n",
    "print(list(zip(givenList,rangeList )))"
   ]
  },
  {
   "cell_type": "code",
   "execution_count": 3,
   "metadata": {},
   "outputs": [
    {
     "name": "stdout",
     "output_type": "stream",
     "text": [
      "List in sorted ascending order:  [1, 2, 3, 5, 6, 8]\n"
     ]
    }
   ],
   "source": [
    "# 3.\n",
    "lst = [1, 5, 8, 2, 6, 3]\n",
    "print(\"List in sorted ascending order: \", sorted(lst))"
   ]
  },
  {
   "cell_type": "code",
   "execution_count": 4,
   "metadata": {},
   "outputs": [
    {
     "name": "stdout",
     "output_type": "stream",
     "text": [
      "Odd number containing list:  [1, 3, 5, 7]\n"
     ]
    }
   ],
   "source": [
    "# 4.\n",
    "lst = [1, 2, 3, 4, 5, 6, 7, 8]\n",
    "evenList = list(filter(lambda x: x%2==0, lst))\n",
    "oddList = set(lst)-set(evenList)\n",
    "print(\"Odd number containing list: \", list(oddList))"
   ]
  }
 ],
 "metadata": {
  "kernelspec": {
   "display_name": "Python 3",
   "language": "python",
   "name": "python3"
  },
  "language_info": {
   "codemirror_mode": {
    "name": "ipython",
    "version": 3
   },
   "file_extension": ".py",
   "mimetype": "text/x-python",
   "name": "python",
   "nbconvert_exporter": "python",
   "pygments_lexer": "ipython3",
   "version": "3.8.3"
  }
 },
 "nbformat": 4,
 "nbformat_minor": 2
}
