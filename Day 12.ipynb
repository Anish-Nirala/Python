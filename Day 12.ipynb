{
 "cells": [
  {
   "cell_type": "code",
   "execution_count": 1,
   "metadata": {},
   "outputs": [
    {
     "name": "stdout",
     "output_type": "stream",
     "text": [
      "Converted dict object into json string:  {\"India\": \"Delhi\", \"Bihar\": \"Patna\"}\n",
      "Converted list object into json string:  [\"Delhi\", \"Bihar\"]\n",
      "Converted tuple object into json string:  [1, 2, 3, 4, 5]\n",
      "Converted string object into json string:  \"Python\"\n",
      "Converted int object into json string:  5\n",
      "Converted flaot object into json string:  3.14\n",
      "Converted true object into json string:  true\n",
      "Converted false object into json string:  false\n",
      "Converted none object into json string:  null\n"
     ]
    }
   ],
   "source": [
    "# 1(a). Converting python objects into JSON string\n",
    "import json\n",
    "# a. Dictionary\n",
    "capDict = {\"India\":\"Delhi\", \"Bihar\":\"Patna\"}\n",
    "print(\"Converted dict object into json string: \",json.dumps(capDict))\n",
    "# b. List\n",
    "lst = [\"Delhi\", \"Bihar\"]\n",
    "print(\"Converted list object into json string: \",json.dumps(lst))\n",
    "# c. Tuple\n",
    "tup = (1,2,3,4,5)\n",
    "print(\"Converted tuple object into json string: \", json.dumps(tup))\n",
    "# d. String\n",
    "stk = \"Python\"\n",
    "print(\"Converted string object into json string: \", json.dumps(stk))\n",
    "# e. Integer\n",
    "a = 5\n",
    "print(\"Converted int object into json string: \", json.dumps(a))\n",
    "# f. Flaot\n",
    "a = 3.14\n",
    "print(\"Converted flaot object into json string: \", json.dumps(a))\n",
    "# g. True\n",
    "flag = True\n",
    "print(\"Converted true object into json string: \", json.dumps(flag))\n",
    "# h. False\n",
    "flag = False\n",
    "print(\"Converted false object into json string: \", json.dumps(flag))\n",
    "# i. None\n",
    "flag = None\n",
    "print(\"Converted none object into json string: \", json.dumps(flag))"
   ]
  },
  {
   "cell_type": "code",
   "execution_count": 2,
   "metadata": {},
   "outputs": [],
   "source": [
    "# 1(b). Converting json file into a sql database\n",
    "import sqlite3\n",
    "profile = {\n",
    "        \"Name\": \"ABC\",\n",
    "        \"Salary\": 500000,\n",
    "        \"Position\": \"SDE\",\n",
    "        \"knowPython\": True,\n",
    "        \"knowJava\": False,              # python object containing all object Datatypes.\n",
    "        \"knownLanguage\": (\"Python\", \"C++\"),\n",
    "        \"House\": None,\n",
    "        \"Education\": [{'12TH': \"90%\"}, {\"BTECH\": \"9CGPA\"}]\n",
    "}\n",
    "with open(\"profile.json\", \"w\") as f:   # Dumping python object into json file named profile.json.\n",
    "    f.write(json.dumps(profile))\n",
    "with open(\"profile.json\",\"r\") as f:    # Loading json file to get data.\n",
    "    data = json.load(f)\n",
    "connection = sqlite3.connect('proflie.db') # profile.db present into sql server database\n",
    "for keys, values in data.items():\n",
    "#     query = write sql query to execute instructions.\n",
    "    cur = connection.cursor()\n",
    "    cur.execute(query, keys)\n",
    "    cur.execute(query, values)\n",
    "    cur.close()"
   ]
  }
 ],
 "metadata": {
  "kernelspec": {
   "display_name": "Python 3",
   "language": "python",
   "name": "python3"
  },
  "language_info": {
   "codemirror_mode": {
    "name": "ipython",
    "version": 3
   },
   "file_extension": ".py",
   "mimetype": "text/x-python",
   "name": "python",
   "nbconvert_exporter": "python",
   "pygments_lexer": "ipython3",
   "version": "3.8.3"
  }
 },
 "nbformat": 4,
 "nbformat_minor": 2
}
