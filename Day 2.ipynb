{
 "cells": [
  {
   "cell_type": "code",
   "execution_count": 7,
   "metadata": {},
   "outputs": [
    {
     "name": "stdout",
     "output_type": "stream",
     "text": [
      "The value of a after dividing by 10 is:  1\n",
      "The value of b after multiplying by 50 is:  500\n",
      "The value of c after adding to 60 is:  70\n"
     ]
    }
   ],
   "source": [
    "# 1.\n",
    "a = b = c = 10\n",
    "a = a//10\n",
    "b = b*50\n",
    "c = c+60\n",
    "print(\"The value of a after dividing by 10 is: \",a)\n",
    "print(\"The value of b after multiplying by 50 is: \",b)\n",
    "print(\"The value of c after adding to 60 is: \",c)"
   ]
  },
  {
   "cell_type": "code",
   "execution_count": 18,
   "metadata": {},
   "outputs": [
    {
     "name": "stdout",
     "output_type": "stream",
     "text": [
      "The resultant string after replacing 3rd character with G is:  AnGsh\n"
     ]
    }
   ],
   "source": [
    "# 2.\n",
    "str = \"Anish\"\n",
    "str = str[:2]+\"G\"+str[3:]\n",
    "print(\"The resultant string after replacing 3rd character with G is: \",str)"
   ]
  },
  {
   "cell_type": "code",
   "execution_count": 19,
   "metadata": {},
   "outputs": [
    {
     "name": "stdout",
     "output_type": "stream",
     "text": [
      "The value of a after type conversion is:  3.0\n",
      "The value of b after type conversion is:  3\n"
     ]
    }
   ],
   "source": [
    "# 3.\n",
    "a, b = 3, 3.14\n",
    "a = float(a)\n",
    "b = int(b)\n",
    "print(\"The value of a after type conversion is: \", a)\n",
    "print(\"The value of b after type conversion is: \", b)"
   ]
  },
  {
   "cell_type": "code",
   "execution_count": null,
   "metadata": {},
   "outputs": [],
   "source": []
  }
 ],
 "metadata": {
  "kernelspec": {
   "display_name": "Python 3",
   "language": "python",
   "name": "python3"
  },
  "language_info": {
   "codemirror_mode": {
    "name": "ipython",
    "version": 3
   },
   "file_extension": ".py",
   "mimetype": "text/x-python",
   "name": "python",
   "nbconvert_exporter": "python",
   "pygments_lexer": "ipython3",
   "version": "3.8.3"
  }
 },
 "nbformat": 4,
 "nbformat_minor": 2
}
