{
 "cells": [
  {
   "cell_type": "code",
   "execution_count": 1,
   "metadata": {},
   "outputs": [
    {
     "name": "stdout",
     "output_type": "stream",
     "text": [
      "After merging two capitals dictionaries:  {'Bihar': 'Patna', 'India': 'Delhi', 'Maharashtra': 'Mumbai', 'Goa': 'Panji'}\n"
     ]
    }
   ],
   "source": [
    "# 1.\n",
    "capitals_dict = {'Bihar':'Patna', 'India':'Delhi'}\n",
    "new_capitals_dict = {'Maharashtra':'Mumbai', 'Goa':'Panji'}\n",
    "capitals_dict.update(new_capitals_dict)\n",
    "print(\"After merging two capitals dictionaries: \",capitals_dict)"
   ]
  },
  {
   "cell_type": "code",
   "execution_count": 2,
   "metadata": {},
   "outputs": [
    {
     "name": "stdout",
     "output_type": "stream",
     "text": [
      "Before poping key from num dictionary:  {'a': 1, 'b': 2, 'c': 3}\n",
      "After poping key from num dictionary:  {'a': 1, 'b': 2}\n"
     ]
    }
   ],
   "source": [
    "# 2.\n",
    "num_dict = {'a':1, 'b':2, 'c':3}\n",
    "print(\"Before poping key from num dictionary: \",num_dict)\n",
    "del num_dict['c']\n",
    "print(\"After poping key from num dictionary: \",num_dict)"
   ]
  },
  {
   "cell_type": "code",
   "execution_count": 3,
   "metadata": {},
   "outputs": [
    {
     "name": "stdout",
     "output_type": "stream",
     "text": [
      "Dictionary obtained after mapping lists: {'Bihar': 'Patna', 'Jharkhand': 'Ranchi', 'Assam': 'Guwahati'}\n"
     ]
    }
   ],
   "source": [
    "# 3.\n",
    "state_dict = ['Bihar','Jharkhand','Assam']\n",
    "capital_dict = ['Patna','Ranchi','Guwahati']\n",
    "print(\"Dictionary obtained after mapping lists:\",dict(zip(state_dict, capital_dict)))"
   ]
  },
  {
   "cell_type": "code",
   "execution_count": 4,
   "metadata": {},
   "outputs": [
    {
     "name": "stdout",
     "output_type": "stream",
     "text": [
      "The length of set is:  5\n"
     ]
    }
   ],
   "source": [
    "# 4.\n",
    "stk = set([1,2,3,4,5,1,2,3])\n",
    "print(\"The length of set is: \", len(stk)) # Set doesn't support duplicate items."
   ]
  },
  {
   "cell_type": "code",
   "execution_count": 5,
   "metadata": {},
   "outputs": [
    {
     "name": "stdout",
     "output_type": "stream",
     "text": [
      "set1 after removing intersection elements from set2 is:  {1, 2}\n"
     ]
    }
   ],
   "source": [
    "# 5. \n",
    "set1 = set([1,2,3,4,5])\n",
    "set2 = set([3,4,5,6,7])\n",
    "set1 = set1-set2\n",
    "print(\"set1 after removing intersection elements from set2 is: \",set1)"
   ]
  },
  {
   "cell_type": "code",
   "execution_count": null,
   "metadata": {},
   "outputs": [],
   "source": []
  }
 ],
 "metadata": {
  "kernelspec": {
   "display_name": "Python 3",
   "language": "python",
   "name": "python3"
  },
  "language_info": {
   "codemirror_mode": {
    "name": "ipython",
    "version": 3
   },
   "file_extension": ".py",
   "mimetype": "text/x-python",
   "name": "python",
   "nbconvert_exporter": "python",
   "pygments_lexer": "ipython3",
   "version": "3.8.3"
  }
 },
 "nbformat": 4,
 "nbformat_minor": 2
}
