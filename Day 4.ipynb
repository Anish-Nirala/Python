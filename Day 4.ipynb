{
 "cells": [
  {
   "cell_type": "code",
   "execution_count": null,
   "metadata": {},
   "outputs": [],
   "source": [
    "# 1.\n",
    "n = int(input(\"Enter the value of n: \"))\n",
    "lst = []\n",
    "print(\"Enter the list values: \")\n",
    "for _ in range(n):\n",
    "    lst.append(int(input()))\n",
    "# a.\n",
    "item = int(input(\"Enter the item which you want to add in list: \"))\n",
    "lst.append(item)\n",
    "# b.\n",
    "idx = int(input(\"Enter the index of elements which you want to delete: \"))\n",
    "del lst[idx]\n",
    "# c.\n",
    "mx = max(lst)\n",
    "# d.\n",
    "mn = min(lst)"
   ]
  },
  {
   "cell_type": "code",
   "execution_count": 1,
   "metadata": {},
   "outputs": [
    {
     "name": "stdout",
     "output_type": "stream",
     "text": [
      "Reverse of created tuple is:  ('A', 3.2, 1, 'Python')\n"
     ]
    }
   ],
   "source": [
    "# 2.\n",
    "tup = (\"Python\", 1, 3.2, 'A')\n",
    "print(\"Reverse of created tuple is: \", tuple(reversed(tup)))"
   ]
  },
  {
   "cell_type": "code",
   "execution_count": 2,
   "metadata": {},
   "outputs": [
    {
     "name": "stdout",
     "output_type": "stream",
     "text": [
      "The converted tuple into list is:  [12, 13, 45, 69]\n"
     ]
    }
   ],
   "source": [
    "tup = (12,13,45,69)\n",
    "print(\"The converted tuple into list is: \", list(tup))"
   ]
  }
 ],
 "metadata": {
  "kernelspec": {
   "display_name": "Python 3",
   "language": "python",
   "name": "python3"
  },
  "language_info": {
   "codemirror_mode": {
    "name": "ipython",
    "version": 3
   },
   "file_extension": ".py",
   "mimetype": "text/x-python",
   "name": "python",
   "nbconvert_exporter": "python",
   "pygments_lexer": "ipython3",
   "version": "3.8.3"
  }
 },
 "nbformat": 4,
 "nbformat_minor": 4
}
