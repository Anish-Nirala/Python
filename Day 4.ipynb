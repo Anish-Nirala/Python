{
 "cells": [
  {
   "cell_type": "code",
   "execution_count": 4,
   "metadata": {},
   "outputs": [],
   "source": [
    "# 1.\n",
    "lst = []\n",
    "print(\"Enter the value of n: \")\n",
    "n = int(input())\n",
    "for _ in range(n):\n",
    "    lst.append(int(input()))\n",
    "# a.\n",
    "print(\"Enter the element which you want to add: \")\n",
    "item = int(input())\n",
    "lst.append(item)\n",
    "# b.\n",
    "print(\"Enter the index of element which you want to delete: \")\n",
    "idx = int(input())\n",
    "del lst[idx]\n",
    "# c.\n",
    "mx = max(lst)\n",
    "# d.\n",
    "mn = min(lst)"
   ]
  },
  {
   "cell_type": "code",
   "execution_count": 9,
   "metadata": {},
   "outputs": [
    {
     "name": "stdout",
     "output_type": "stream",
     "text": [
      "Reverse of created tuple:  ('A', 3.4, 12, 'python')\n"
     ]
    }
   ],
   "source": [
    "# 2.\n",
    "tup = ('python',12,3.4,'A')\n",
    "print(\"Reverse of created tuple: \", tuple(reversed(tup)))"
   ]
  },
  {
   "cell_type": "code",
   "execution_count": 11,
   "metadata": {},
   "outputs": [
    {
     "name": "stdout",
     "output_type": "stream",
     "text": [
      "Converted tuple into list is:  ['1', 'a', 21, 3.4]\n"
     ]
    }
   ],
   "source": [
    "# 3.\n",
    "tup = ('1','a',21,3.4)\n",
    "print(\"Converted tuple into list is: \", list(tup))"
   ]
  }
 ],
 "metadata": {
  "kernelspec": {
   "display_name": "Python 3",
   "language": "python",
   "name": "python3"
  },
  "language_info": {
   "codemirror_mode": {
    "name": "ipython",
    "version": 3
   },
   "file_extension": ".py",
   "mimetype": "text/x-python",
   "name": "python",
   "nbconvert_exporter": "python",
   "pygments_lexer": "ipython3",
   "version": "3.8.3"
  }
 },
 "nbformat": 4,
 "nbformat_minor": 2
}
