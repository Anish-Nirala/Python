{
 "cells": [
  {
   "cell_type": "code",
   "execution_count": 2,
   "metadata": {},
   "outputs": [
    {
     "name": "stdout",
     "output_type": "stream",
     "text": [
      "Enter the first number: 5\n",
      "Enter the second number: 4\n",
      "Addition of two numbers is:  9\n",
      "Subtraction of two numbers is:  1\n",
      "Multiplication of two numbers is:  20\n",
      "Division of two numbers is:  1.25\n"
     ]
    }
   ],
   "source": [
    "# 1.\n",
    "def func(a,b):\n",
    "    print(\"Addition of two numbers is: \", a+b)\n",
    "    print(\"Subtraction of two numbers is: \", a-b)\n",
    "    print(\"Multiplication of two numbers is: \", a*b)\n",
    "    print(\"Division of two numbers is: \", a/b)\n",
    "a = int(input(\"Enter the first number: \"))\n",
    "b = int(input(\"Enter the second number: \"))\n",
    "func(a,b)"
   ]
  },
  {
   "cell_type": "code",
   "execution_count": 3,
   "metadata": {},
   "outputs": [
    {
     "name": "stdout",
     "output_type": "stream",
     "text": [
      "Enter the name of patient: Corona\n",
      "Name of patient is:  Corona  and the body temperature is:  98\n"
     ]
    }
   ],
   "source": [
    "def covid(patient_name, body_temperature = 98):\n",
    "    print(\"Name of patient is: \", patient_name,\" and the body temperature is: \",body_temperature)\n",
    "patient_name = input(\"Enter the name of patient: \")\n",
    "covid(patient_name)"
   ]
  },
  {
   "cell_type": "code",
   "execution_count": null,
   "metadata": {},
   "outputs": [],
   "source": []
  }
 ],
 "metadata": {
  "kernelspec": {
   "display_name": "Python 3",
   "language": "python",
   "name": "python3"
  },
  "language_info": {
   "codemirror_mode": {
    "name": "ipython",
    "version": 3
   },
   "file_extension": ".py",
   "mimetype": "text/x-python",
   "name": "python",
   "nbconvert_exporter": "python",
   "pygments_lexer": "ipython3",
   "version": "3.8.3"
  }
 },
 "nbformat": 4,
 "nbformat_minor": 2
}
