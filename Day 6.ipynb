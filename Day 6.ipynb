{
 "cells": [
  {
   "cell_type": "code",
   "execution_count": 1,
   "metadata": {},
   "outputs": [
    {
     "name": "stdout",
     "output_type": "stream",
     "text": [
      "List obtained after adding 2 to elements of list:  [3, 4, 5, 6, 7]\n"
     ]
    }
   ],
   "source": [
    "# 1.\n",
    "lst = [1,2,3,4,5]\n",
    "for k in range(len(lst)):\n",
    "    lst[k]+=2\n",
    "print(\"List obtained after adding 2 to elements of list: \",lst)"
   ]
  },
  {
   "cell_type": "code",
   "execution_count": 2,
   "metadata": {},
   "outputs": [
    {
     "name": "stdout",
     "output_type": "stream",
     "text": [
      "54321\n",
      "4321\n",
      "321\n",
      "21\n",
      "1\n"
     ]
    }
   ],
   "source": [
    "# 2.\n",
    "for x in range(5,0,-1):\n",
    "    while(x):\n",
    "        print(x,end=\"\")\n",
    "        x-=1\n",
    "    print()"
   ]
  },
  {
   "cell_type": "code",
   "execution_count": 3,
   "metadata": {},
   "outputs": [
    {
     "name": "stdout",
     "output_type": "stream",
     "text": [
      "Enter the value of n: 10\n",
      "Fibonacci sequence:  [0, 1, 1, 2, 3, 5, 8, 13, 21, 34]\n"
     ]
    }
   ],
   "source": [
    "# 3.\n",
    "n = int(input(\"Enter the value of n: \"))\n",
    "fib = [-1 for _ in range(n)]\n",
    "fib[0], fib[1] = 0,1\n",
    "for k in range(2,n):\n",
    "    fib[k]=fib[k-1]+fib[k-2]\n",
    "print(\"Fibonacci sequence: \",fib)"
   ]
  },
  {
   "cell_type": "code",
   "execution_count": 4,
   "metadata": {},
   "outputs": [
    {
     "name": "stdout",
     "output_type": "stream",
     "text": [
      "Enter the number: 407\n",
      "Number is Armstrong number.\n"
     ]
    }
   ],
   "source": [
    "# 3.\n",
    "# Armstrong Number: It is a number that is equal to the sum of cubes of its digits.\n",
    "num = int(input(\"Enter the number: \"))\n",
    "val = num\n",
    "sm = 0\n",
    "while(val):\n",
    "    sm+=(val%10)**3\n",
    "    val//=10\n",
    "if(sm==num):\n",
    "    print(\"Number is Armstrong number.\")\n",
    "else:\n",
    "    print(\"Number is not an Armstrong number.\")"
   ]
  },
  {
   "cell_type": "code",
   "execution_count": 5,
   "metadata": {},
   "outputs": [
    {
     "name": "stdout",
     "output_type": "stream",
     "text": [
      "9 * 1 = 9\n",
      "9 * 2 = 18\n",
      "9 * 3 = 27\n",
      "9 * 4 = 36\n",
      "9 * 5 = 45\n",
      "9 * 6 = 54\n",
      "9 * 7 = 63\n",
      "9 * 8 = 72\n",
      "9 * 9 = 81\n",
      "9 * 10 = 90\n"
     ]
    }
   ],
   "source": [
    "# 4.\n",
    "for k in range(1,11):\n",
    "    print(\"9 *\",k,'=',9*k)"
   ]
  },
  {
   "cell_type": "code",
   "execution_count": 6,
   "metadata": {},
   "outputs": [
    {
     "name": "stdout",
     "output_type": "stream",
     "text": [
      "Enter the number: -10\n",
      "Negative Number\n"
     ]
    }
   ],
   "source": [
    "# 5.\n",
    "num = int(input(\"Enter the number: \"))\n",
    "if(num>=0):\n",
    "    print(\"Positive Number\")\n",
    "else:\n",
    "    print(\"Negative Number\")"
   ]
  },
  {
   "cell_type": "code",
   "execution_count": 7,
   "metadata": {},
   "outputs": [
    {
     "name": "stdout",
     "output_type": "stream",
     "text": [
      "Enter the number of days: 530\n",
      "Converted number of days into age:  1 year and 5 month and 15 day.\n"
     ]
    }
   ],
   "source": [
    "# 6.\n",
    "num = int(input(\"Enter the number of days: \"))\n",
    "age = num//365\n",
    "num%=365\n",
    "month = num//30\n",
    "num%=30\n",
    "day = num\n",
    "print(\"Converted number of days into age: \", age,\"year and\",month,\"month and\",day,\"day.\")"
   ]
  },
  {
   "cell_type": "code",
   "execution_count": 8,
   "metadata": {},
   "outputs": [
    {
     "name": "stdout",
     "output_type": "stream",
     "text": [
      "Enter the degree: 75\n",
      "The value of sine is at 75 degree:  0.9659258262890683\n"
     ]
    }
   ],
   "source": [
    "# 7.\n",
    "import math\n",
    "deg = int(input(\"Enter the degree: \"))\n",
    "print(\"The value of sine is at\",deg,\"degree: \",math.sin(math.radians(deg)))"
   ]
  },
  {
   "cell_type": "code",
   "execution_count": 9,
   "metadata": {},
   "outputs": [
    {
     "name": "stdout",
     "output_type": "stream",
     "text": [
      "Enter the first number: 15\n",
      "Enter the second number: 8\n",
      "Enter the opeartor: /\n",
      "Result is:  1.875\n"
     ]
    }
   ],
   "source": [
    "num1 = int(input(\"Enter the first number: \"))\n",
    "num2 = int(input(\"Enter the second number: \"))\n",
    "op = input(\"Enter the opeartor: \")\n",
    "if(op=='+'):\n",
    "    print(\"Result is: \", num1+num2)\n",
    "elif(op=='-'):\n",
    "    print(\"Result is: \", num1-num2)\n",
    "elif(op=='*'):\n",
    "    print(\"Result is: \", num1*num2)\n",
    "else:\n",
    "    print(\"Result is: \", num1/num2)"
   ]
  }
 ],
 "metadata": {
  "kernelspec": {
   "display_name": "Python 3",
   "language": "python",
   "name": "python3"
  },
  "language_info": {
   "codemirror_mode": {
    "name": "ipython",
    "version": 3
   },
   "file_extension": ".py",
   "mimetype": "text/x-python",
   "name": "python",
   "nbconvert_exporter": "python",
   "pygments_lexer": "ipython3",
   "version": "3.8.3"
  }
 },
 "nbformat": 4,
 "nbformat_minor": 2
}
