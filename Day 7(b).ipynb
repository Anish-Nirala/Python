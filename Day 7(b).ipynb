{
 "cells": [
  {
   "cell_type": "code",
   "execution_count": 1,
   "metadata": {},
   "outputs": [],
   "source": [
    "# 1.\n",
    "# ques no 1 is done in Day 7(a) part."
   ]
  },
  {
   "cell_type": "code",
   "execution_count": 2,
   "metadata": {},
   "outputs": [],
   "source": [
    "# 2.\n",
    "import pandas"
   ]
  },
  {
   "cell_type": "code",
   "execution_count": 3,
   "metadata": {},
   "outputs": [
    {
     "name": "stdout",
     "output_type": "stream",
     "text": [
      "Enter the no. of iterations: 10\n",
      "46\n",
      "61\n",
      "93\n",
      "42\n",
      "1\n",
      "98\n",
      "11\n",
      "41\n",
      "82\n",
      "17\n"
     ]
    }
   ],
   "source": [
    "# 3.\n",
    "import random\n",
    "n = int(input(\"Enter the no. of iterations: \"))\n",
    "while(n):\n",
    "    print(random.randint(0, 100))\n",
    "    n-=1"
   ]
  },
  {
   "cell_type": "code",
   "execution_count": 4,
   "metadata": {},
   "outputs": [
    {
     "name": "stdout",
     "output_type": "stream",
     "text": [
      "C:\\Users\\Lenovo\\anaconda3\\lib\\site-packages\\Pythonwin\n",
      "C:\\Users\\Lenovo\\anaconda3\\lib\\site-packages\\IPython\\extensions\n"
     ]
    }
   ],
   "source": [
    "# 4.\n",
    "import sys\n",
    "for path in sys.path:\n",
    "    if('Python' in path):\n",
    "        print(path)"
   ]
  },
  {
   "cell_type": "code",
   "execution_count": 5,
   "metadata": {},
   "outputs": [],
   "source": [
    "# 5.\n",
    "#To install a package, use command\n",
    "pip install numpy\n",
    "#To uninstall a package, use command\n",
    "pip uninstall numpy"
   ]
  },
  {
   "cell_type": "code",
   "execution_count": null,
   "metadata": {},
   "outputs": [],
   "source": []
  }
 ],
 "metadata": {
  "kernelspec": {
   "display_name": "Python 3",
   "language": "python",
   "name": "python3"
  },
  "language_info": {
   "codemirror_mode": {
    "name": "ipython",
    "version": 3
   },
   "file_extension": ".py",
   "mimetype": "text/x-python",
   "name": "python",
   "nbconvert_exporter": "python",
   "pygments_lexer": "ipython3",
   "version": "3.8.3"
  }
 },
 "nbformat": 4,
 "nbformat_minor": 2
}
