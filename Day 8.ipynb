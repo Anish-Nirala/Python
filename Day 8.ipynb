{
 "cells": [
  {
   "cell_type": "code",
   "execution_count": null,
   "metadata": {},
   "outputs": [],
   "source": [
    "# 1.\n",
    "# The error types in python are: \n",
    "#     a. ZeroDivisionError\n",
    "#     b. IndexError\n",
    "#     c. NameError\n",
    "#     d. ValueError\n",
    "#     e. IOError\n",
    "\n",
    "# a. ZeroDivisionError\n",
    "\n",
    "num = 10\n",
    "dem = 0\n",
    "try:\n",
    "    res = num/dem\n",
    "except ZeroDivisionError:\n",
    "    print(\"Zero Division Occured\")\n",
    "else:\n",
    "    print(\"Error has not occured and the result is: \", res)\n",
    "\n",
    "# b. IndexError\n",
    "\n",
    "lst = [1, 2, 3, 4, 5]\n",
    "try:\n",
    "    a = lst[5]\n",
    "except IndexError:\n",
    "    print(\"Index Error Occured\")\n",
    "else:\n",
    "    print(\"The element is: \", a)\n",
    "\n",
    "# c. NameError\n",
    "\n",
    "try: \n",
    "    print(\"The given string is: \", stk)\n",
    "except NameError:\n",
    "    print(\"Name Error Occured\")\n",
    "    \n",
    "# d. ValueError\n",
    "\n",
    "try:\n",
    "    num = input()\n",
    "    num = int(num)\n",
    "except ValueError:\n",
    "    print(\"Value Error Occured.\")\n",
    "    \n",
    "# e. IOError\n",
    "\n",
    "try:\n",
    "    f = open('python.txt', 'r')\n",
    "except IOError:\n",
    "    print(\"IOError Occured.\")\n"
   ]
  },
  {
   "cell_type": "code",
   "execution_count": 1,
   "metadata": {},
   "outputs": [
    {
     "name": "stdout",
     "output_type": "stream",
     "text": [
      "Enter the first number: 5\n",
      "Enter the second number: 6\n",
      "Enter the operator: @\n",
      "Entered operator is not valid for calculation.\n"
     ]
    }
   ],
   "source": [
    "# 2.\n",
    "num1 = input(\"Enter the first number: \")\n",
    "num2 = input(\"Enter the second number: \")\n",
    "opt = input(\"Enter the operator: \")\n",
    "\n",
    "operatorList = ['+','-','*','/']\n",
    "\n",
    "try:\n",
    "    num1 = int(num1)\n",
    "    num2 = int(num2)\n",
    "    \n",
    "    if(opt not in operatorList):\n",
    "        raise IndexError\n",
    "        \n",
    "    idx = operatorList.index(opt)\n",
    "    \n",
    "    if(idx==0):\n",
    "        print(\"Addition result is: \", num1+num2)\n",
    "    if(idx==1):\n",
    "        print(\"Subtraction result is: \", num1-num2)\n",
    "    if(idx==2):\n",
    "        print(\"Multiplication result is: \", num1*num2)\n",
    "    if(idx==3):\n",
    "        print(\"Division result is: \", num/num2)\n",
    "        \n",
    "except IndexError:\n",
    "    print(\"Entered operator is not valid for calculation.\")\n",
    "    \n",
    "except ValueError:\n",
    "    print(\"Entered number is not valid for calculation.\")\n",
    "    \n",
    "except ZeroDivisionError:\n",
    "    print(\"Zero Division Occured\")"
   ]
  },
  {
   "cell_type": "code",
   "execution_count": 2,
   "metadata": {},
   "outputs": [
    {
     "name": "stdout",
     "output_type": "stream",
     "text": [
      "Name Error Occured.\n"
     ]
    }
   ],
   "source": [
    "# 3.\n",
    "try:\n",
    "    print(\"The value of integer is: \", integer)\n",
    "except NameError:\n",
    "    print(\"Name Error Occured.\")\n",
    "except:\n",
    "    print(\"NameError not occured.\")"
   ]
  },
  {
   "cell_type": "code",
   "execution_count": null,
   "metadata": {},
   "outputs": [],
   "source": [
    "# 4.\n",
    "# try-except scenario is not required when the programmer is confident about the code that it won't results into any error."
   ]
  },
  {
   "cell_type": "code",
   "execution_count": 3,
   "metadata": {},
   "outputs": [
    {
     "name": "stdout",
     "output_type": "stream",
     "text": [
      "Enter the number: Python\n",
      "Enter a valid number. ValueError Occured.\n"
     ]
    }
   ],
   "source": [
    "# 5.\n",
    "try:\n",
    "    a = int(input(\"Enter the number: \"))\n",
    "    print(\"Entered number is: \", a)\n",
    "except ValueError:\n",
    "    print(\"Enter a valid number. ValueError Occured.\")"
   ]
  },
  {
   "cell_type": "code",
   "execution_count": null,
   "metadata": {},
   "outputs": [],
   "source": []
  }
 ],
 "metadata": {
  "kernelspec": {
   "display_name": "Python 3",
   "language": "python",
   "name": "python3"
  },
  "language_info": {
   "codemirror_mode": {
    "name": "ipython",
    "version": 3
   },
   "file_extension": ".py",
   "mimetype": "text/x-python",
   "name": "python",
   "nbconvert_exporter": "python",
   "pygments_lexer": "ipython3",
   "version": "3.8.3"
  }
 },
 "nbformat": 4,
 "nbformat_minor": 2
}
