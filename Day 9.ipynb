{
 "cells": [
  {
   "cell_type": "code",
   "execution_count": 1,
   "metadata": {},
   "outputs": [
    {
     "name": "stdout",
     "output_type": "stream",
     "text": [
      "Enter the argument x: 12\n",
      "Enter the argument y: 32\n",
      "The result is:  384\n"
     ]
    }
   ],
   "source": [
    "# 1.\n",
    "\n",
    "func = lambda x,y : x*y\n",
    "\n",
    "x = int(input(\"Enter the argument x: \"))\n",
    "y = int(input(\"Enter the argument y: \"))\n",
    "\n",
    "print(\"The result is: \",func(x,y))"
   ]
  },
  {
   "cell_type": "code",
   "execution_count": 2,
   "metadata": {},
   "outputs": [
    {
     "name": "stdout",
     "output_type": "stream",
     "text": [
      "Enter the value of n: 10\n",
      "Fibonacci series up to n:  [0, 1, 1, 2, 3, 5, 8, 13, 21, 34]\n"
     ]
    }
   ],
   "source": [
    "# 2.\n",
    "\n",
    "n = int(input(\"Enter the value of n: \"))\n",
    "\n",
    "fib = lambda n : n if n<=1 else fib(n-1) + fib(n-2)\n",
    "res = list(map(fib, range(0, n)))\n",
    "\n",
    "print(\"Fibonacci series up to n: \", res)"
   ]
  },
  {
   "cell_type": "code",
   "execution_count": 3,
   "metadata": {},
   "outputs": [
    {
     "name": "stdout",
     "output_type": "stream",
     "text": [
      "Enter the number which from which you want to multiply the given list: 5\n",
      "The new list obtained is:  [5, 10, 15, 20, 25]\n"
     ]
    }
   ],
   "source": [
    "# 3.\n",
    "\n",
    "lst = [1, 2, 3, 4, 5]\n",
    "\n",
    "givenNumber = int(input(\"Enter the number which from which you want to multiply the given list: \"))\n",
    "\n",
    "lst = list(map(lambda x: x*givenNumber, lst))\n",
    "\n",
    "print(\"The new list obtained is: \", lst)"
   ]
  },
  {
   "cell_type": "code",
   "execution_count": 4,
   "metadata": {},
   "outputs": [
    {
     "name": "stdout",
     "output_type": "stream",
     "text": [
      "List of number divisible by 9 in lst is:  [27, 18, 54]\n"
     ]
    }
   ],
   "source": [
    "# 4.\n",
    "\n",
    "lst = [12, 27, 18, 35, 42, 54]\n",
    "\n",
    "res = list(filter(lambda x: (x%9==0), lst))\n",
    "\n",
    "print(\"List of number divisible by 9 in lst is: \", res)"
   ]
  },
  {
   "cell_type": "code",
   "execution_count": 5,
   "metadata": {},
   "outputs": [
    {
     "name": "stdout",
     "output_type": "stream",
     "text": [
      "Count of even numbers in lst is:  4\n"
     ]
    }
   ],
   "source": [
    "# 5.\n",
    "\n",
    "lst = [1, 2, 3, 4, 5, 8, 10]\n",
    "\n",
    "res = list(filter(lambda x: (x%2==0), lst))\n",
    "\n",
    "print(\"Count of even numbers in lst is: \", len(res))"
   ]
  }
 ],
 "metadata": {
  "kernelspec": {
   "display_name": "Python 3",
   "language": "python",
   "name": "python3"
  },
  "language_info": {
   "codemirror_mode": {
    "name": "ipython",
    "version": 3
   },
   "file_extension": ".py",
   "mimetype": "text/x-python",
   "name": "python",
   "nbconvert_exporter": "python",
   "pygments_lexer": "ipython3",
   "version": "3.8.3"
  }
 },
 "nbformat": 4,
 "nbformat_minor": 2
}
